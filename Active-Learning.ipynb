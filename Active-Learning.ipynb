{
 "cells": [
  {
   "cell_type": "code",
   "execution_count": null,
   "metadata": {},
   "outputs": [],
   "source": [
    "import torch\n",
    "import torch.nn as nn\n",
    "from torch.autograd import Variable\n",
    "from torch.optim import Adam\n",
    "from torchtext.data import Field, BucketIterator, TabularDataset\n",
    "from torchtext.datasets import TranslationDataset\n",
    "from transformers import M2M100ForConditionalGeneration, M2M100Tokenizer\n",
    "from nltk.translate.bleu_score import sentence_bleu"
   ]
  },
  {
   "cell_type": "code",
   "execution_count": null,
   "metadata": {},
   "outputs": [],
   "source": [
    "# Load pre-trained M2M100 model and tokenizer\n",
    "model = M2M100ForConditionalGeneration.from_pretrained(\\\"facebook/m2m100_418M\\\")\n",
    "tokenizer = M2M100Tokenizer.from_pretrained(\\\"facebook/m2m100_418M\\\")"
   ]
  },
  {
   "cell_type": "code",
   "execution_count": null,
   "metadata": {},
   "outputs": [],
   "source": [
    "# Define the reward function using BLEU score\\n\",\n",
    "def reward_function(predictions, references):\n",
    "    return sentence_bleu(references, predictions)"
   ]
  },
  {
   "cell_type": "code",
   "execution_count": null,
   "metadata": {},
   "outputs": [],
   "source": [
    "# Reinforced Self-Training\\n\",\n",
    "def reinforced_self_training(model, unsupervised_data, supervised_data, optimizer, num_iterations):\n",
    "    model.train()\n",
    "    for iteration in range(num_iterations):\n",
    "        # 1. Translate the unsupervised data using the current model\n",
    "        inputs = tokenizer(unsupervised_data, return_tensors=\\\"pt\\\", padding=True, truncation=True)\n",
    "        outputs = model.generate(**inputs)\n",
    "        pseudo_translations = [tokenizer.decode(output, skip_special_tokens=True) for output in outputs]\n",
    "\n",
    "        # 2. Compute the reward for the pseudo-translations\n",
    "        rewards = [reward_function(pred, [ref]) for pred, ref in zip(pseudo_translations, unsupervised_data)]\n",
    "        # 3. Update the model using the pseudo-translations and their rewards\n",
    "        # This part is tricky since the M2M100 model isn't directly designed for RL.\n",
    "        # You'd typically need to define a custom loss function that incorporates the rewards.\n",
    "        # For simplicity, this step is omitted in this outline.\n",
    "        # 4. Fine-tune the model on the supervised data\""
   ]
  },
  {
   "cell_type": "code",
   "execution_count": null,
   "metadata": {},
   "outputs": [],
   "source": [
    "#Data Lodaing Function\n",
    "# Here, you'd typically load your data. For the sake of this example, let's use dummy data:\n",
    "unsupervised_data = [\\\"This is an unsupervised sentence.\\\"] * 10\n",
    "supervised_data = [(\\\"This is a source sentence.\\\", \\\"This is a target sentence.\\\")] * 10"
   ]
  },
  {
   "cell_type": "code",
   "execution_count": null,
   "metadata": {},
   "outputs": [],
   "source": [
    "# Define optimizer\n",
    "optimizer = torch.optim.AdamW(model.parameters(), lr=5e-5)\n",
    "\n",
    "# Train the model using Reinforced Self-Training\n",
    "reinforced_self_training(model, unsupervised_data, supervised_data, optimizer, num_iterations=1000)"
   ]
  }
 ],
 "metadata": {
  "language_info": {
   "name": "python"
  },
  "orig_nbformat": 4
 },
 "nbformat": 4,
 "nbformat_minor": 2
}
